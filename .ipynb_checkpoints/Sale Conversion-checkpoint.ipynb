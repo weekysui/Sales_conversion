{
 "cells": [
  {
   "cell_type": "code",
   "execution_count": 1,
   "metadata": {},
   "outputs": [],
   "source": [
    "import pandas as pd\n",
    "import numpy as np\n",
    "import matplotlib.pyplot as plt\n",
    "from scipy import stats\n",
    "import seaborn as sns"
   ]
  },
  {
   "cell_type": "code",
   "execution_count": 2,
   "metadata": {},
   "outputs": [
    {
     "data": {
      "text/html": [
       "<div>\n",
       "<style scoped>\n",
       "    .dataframe tbody tr th:only-of-type {\n",
       "        vertical-align: middle;\n",
       "    }\n",
       "\n",
       "    .dataframe tbody tr th {\n",
       "        vertical-align: top;\n",
       "    }\n",
       "\n",
       "    .dataframe thead th {\n",
       "        text-align: right;\n",
       "    }\n",
       "</style>\n",
       "<table border=\"1\" class=\"dataframe\">\n",
       "  <thead>\n",
       "    <tr style=\"text-align: right;\">\n",
       "      <th></th>\n",
       "      <th>ad_id</th>\n",
       "      <th>xyz_campaign_id</th>\n",
       "      <th>fb_campaign_id</th>\n",
       "      <th>age</th>\n",
       "      <th>gender</th>\n",
       "      <th>interest</th>\n",
       "      <th>Impressions</th>\n",
       "      <th>Clicks</th>\n",
       "      <th>Spent</th>\n",
       "      <th>Total_Conversion</th>\n",
       "      <th>Approved_Conversion</th>\n",
       "    </tr>\n",
       "  </thead>\n",
       "  <tbody>\n",
       "    <tr>\n",
       "      <th>0</th>\n",
       "      <td>708746</td>\n",
       "      <td>916</td>\n",
       "      <td>103916</td>\n",
       "      <td>30-34</td>\n",
       "      <td>M</td>\n",
       "      <td>15</td>\n",
       "      <td>7350</td>\n",
       "      <td>1</td>\n",
       "      <td>1.43</td>\n",
       "      <td>2</td>\n",
       "      <td>1</td>\n",
       "    </tr>\n",
       "    <tr>\n",
       "      <th>1</th>\n",
       "      <td>708749</td>\n",
       "      <td>916</td>\n",
       "      <td>103917</td>\n",
       "      <td>30-34</td>\n",
       "      <td>M</td>\n",
       "      <td>16</td>\n",
       "      <td>17861</td>\n",
       "      <td>2</td>\n",
       "      <td>1.82</td>\n",
       "      <td>2</td>\n",
       "      <td>0</td>\n",
       "    </tr>\n",
       "    <tr>\n",
       "      <th>2</th>\n",
       "      <td>708771</td>\n",
       "      <td>916</td>\n",
       "      <td>103920</td>\n",
       "      <td>30-34</td>\n",
       "      <td>M</td>\n",
       "      <td>20</td>\n",
       "      <td>693</td>\n",
       "      <td>0</td>\n",
       "      <td>0.00</td>\n",
       "      <td>1</td>\n",
       "      <td>0</td>\n",
       "    </tr>\n",
       "    <tr>\n",
       "      <th>3</th>\n",
       "      <td>708815</td>\n",
       "      <td>916</td>\n",
       "      <td>103928</td>\n",
       "      <td>30-34</td>\n",
       "      <td>M</td>\n",
       "      <td>28</td>\n",
       "      <td>4259</td>\n",
       "      <td>1</td>\n",
       "      <td>1.25</td>\n",
       "      <td>1</td>\n",
       "      <td>0</td>\n",
       "    </tr>\n",
       "    <tr>\n",
       "      <th>4</th>\n",
       "      <td>708818</td>\n",
       "      <td>916</td>\n",
       "      <td>103928</td>\n",
       "      <td>30-34</td>\n",
       "      <td>M</td>\n",
       "      <td>28</td>\n",
       "      <td>4133</td>\n",
       "      <td>1</td>\n",
       "      <td>1.29</td>\n",
       "      <td>1</td>\n",
       "      <td>1</td>\n",
       "    </tr>\n",
       "  </tbody>\n",
       "</table>\n",
       "</div>"
      ],
      "text/plain": [
       "    ad_id  xyz_campaign_id  fb_campaign_id    age gender  interest  \\\n",
       "0  708746              916          103916  30-34      M        15   \n",
       "1  708749              916          103917  30-34      M        16   \n",
       "2  708771              916          103920  30-34      M        20   \n",
       "3  708815              916          103928  30-34      M        28   \n",
       "4  708818              916          103928  30-34      M        28   \n",
       "\n",
       "   Impressions  Clicks  Spent  Total_Conversion  Approved_Conversion  \n",
       "0         7350       1   1.43                 2                    1  \n",
       "1        17861       2   1.82                 2                    0  \n",
       "2          693       0   0.00                 1                    0  \n",
       "3         4259       1   1.25                 1                    0  \n",
       "4         4133       1   1.29                 1                    1  "
      ]
     },
     "execution_count": 2,
     "metadata": {},
     "output_type": "execute_result"
    }
   ],
   "source": [
    "df = pd.read_csv(\"KAG_conversion_data.csv\")\n",
    "df.head()"
   ]
  },
  {
   "cell_type": "code",
   "execution_count": 3,
   "metadata": {
    "scrolled": true
   },
   "outputs": [
    {
     "data": {
      "text/html": [
       "<div>\n",
       "<style scoped>\n",
       "    .dataframe tbody tr th:only-of-type {\n",
       "        vertical-align: middle;\n",
       "    }\n",
       "\n",
       "    .dataframe tbody tr th {\n",
       "        vertical-align: top;\n",
       "    }\n",
       "\n",
       "    .dataframe thead th {\n",
       "        text-align: right;\n",
       "    }\n",
       "</style>\n",
       "<table border=\"1\" class=\"dataframe\">\n",
       "  <thead>\n",
       "    <tr style=\"text-align: right;\">\n",
       "      <th></th>\n",
       "      <th>ad_id</th>\n",
       "      <th>xyz_campaign_id</th>\n",
       "      <th>fb_campaign_id</th>\n",
       "      <th>interest</th>\n",
       "      <th>Impressions</th>\n",
       "      <th>Clicks</th>\n",
       "      <th>Spent</th>\n",
       "      <th>Total_Conversion</th>\n",
       "      <th>Approved_Conversion</th>\n",
       "    </tr>\n",
       "  </thead>\n",
       "  <tbody>\n",
       "    <tr>\n",
       "      <th>count</th>\n",
       "      <td>1.143000e+03</td>\n",
       "      <td>1143.000000</td>\n",
       "      <td>1143.000000</td>\n",
       "      <td>1143.000000</td>\n",
       "      <td>1.143000e+03</td>\n",
       "      <td>1143.000000</td>\n",
       "      <td>1143.000000</td>\n",
       "      <td>1143.000000</td>\n",
       "      <td>1143.000000</td>\n",
       "    </tr>\n",
       "    <tr>\n",
       "      <th>mean</th>\n",
       "      <td>9.872611e+05</td>\n",
       "      <td>1067.382327</td>\n",
       "      <td>133783.989501</td>\n",
       "      <td>32.766404</td>\n",
       "      <td>1.867321e+05</td>\n",
       "      <td>33.390201</td>\n",
       "      <td>51.360656</td>\n",
       "      <td>2.855643</td>\n",
       "      <td>0.944007</td>\n",
       "    </tr>\n",
       "    <tr>\n",
       "      <th>std</th>\n",
       "      <td>1.939928e+05</td>\n",
       "      <td>121.629393</td>\n",
       "      <td>20500.308622</td>\n",
       "      <td>26.952131</td>\n",
       "      <td>3.127622e+05</td>\n",
       "      <td>56.892438</td>\n",
       "      <td>86.908418</td>\n",
       "      <td>4.483593</td>\n",
       "      <td>1.737708</td>\n",
       "    </tr>\n",
       "    <tr>\n",
       "      <th>min</th>\n",
       "      <td>7.087460e+05</td>\n",
       "      <td>916.000000</td>\n",
       "      <td>103916.000000</td>\n",
       "      <td>2.000000</td>\n",
       "      <td>8.700000e+01</td>\n",
       "      <td>0.000000</td>\n",
       "      <td>0.000000</td>\n",
       "      <td>0.000000</td>\n",
       "      <td>0.000000</td>\n",
       "    </tr>\n",
       "    <tr>\n",
       "      <th>25%</th>\n",
       "      <td>7.776325e+05</td>\n",
       "      <td>936.000000</td>\n",
       "      <td>115716.000000</td>\n",
       "      <td>16.000000</td>\n",
       "      <td>6.503500e+03</td>\n",
       "      <td>1.000000</td>\n",
       "      <td>1.480000</td>\n",
       "      <td>1.000000</td>\n",
       "      <td>0.000000</td>\n",
       "    </tr>\n",
       "    <tr>\n",
       "      <th>50%</th>\n",
       "      <td>1.121185e+06</td>\n",
       "      <td>1178.000000</td>\n",
       "      <td>144549.000000</td>\n",
       "      <td>25.000000</td>\n",
       "      <td>5.150900e+04</td>\n",
       "      <td>8.000000</td>\n",
       "      <td>12.370000</td>\n",
       "      <td>1.000000</td>\n",
       "      <td>1.000000</td>\n",
       "    </tr>\n",
       "    <tr>\n",
       "      <th>75%</th>\n",
       "      <td>1.121804e+06</td>\n",
       "      <td>1178.000000</td>\n",
       "      <td>144657.500000</td>\n",
       "      <td>31.000000</td>\n",
       "      <td>2.217690e+05</td>\n",
       "      <td>37.500000</td>\n",
       "      <td>60.025000</td>\n",
       "      <td>3.000000</td>\n",
       "      <td>1.000000</td>\n",
       "    </tr>\n",
       "    <tr>\n",
       "      <th>max</th>\n",
       "      <td>1.314415e+06</td>\n",
       "      <td>1178.000000</td>\n",
       "      <td>179982.000000</td>\n",
       "      <td>114.000000</td>\n",
       "      <td>3.052003e+06</td>\n",
       "      <td>421.000000</td>\n",
       "      <td>639.949998</td>\n",
       "      <td>60.000000</td>\n",
       "      <td>21.000000</td>\n",
       "    </tr>\n",
       "  </tbody>\n",
       "</table>\n",
       "</div>"
      ],
      "text/plain": [
       "              ad_id  xyz_campaign_id  fb_campaign_id     interest  \\\n",
       "count  1.143000e+03      1143.000000     1143.000000  1143.000000   \n",
       "mean   9.872611e+05      1067.382327   133783.989501    32.766404   \n",
       "std    1.939928e+05       121.629393    20500.308622    26.952131   \n",
       "min    7.087460e+05       916.000000   103916.000000     2.000000   \n",
       "25%    7.776325e+05       936.000000   115716.000000    16.000000   \n",
       "50%    1.121185e+06      1178.000000   144549.000000    25.000000   \n",
       "75%    1.121804e+06      1178.000000   144657.500000    31.000000   \n",
       "max    1.314415e+06      1178.000000   179982.000000   114.000000   \n",
       "\n",
       "        Impressions       Clicks        Spent  Total_Conversion  \\\n",
       "count  1.143000e+03  1143.000000  1143.000000       1143.000000   \n",
       "mean   1.867321e+05    33.390201    51.360656          2.855643   \n",
       "std    3.127622e+05    56.892438    86.908418          4.483593   \n",
       "min    8.700000e+01     0.000000     0.000000          0.000000   \n",
       "25%    6.503500e+03     1.000000     1.480000          1.000000   \n",
       "50%    5.150900e+04     8.000000    12.370000          1.000000   \n",
       "75%    2.217690e+05    37.500000    60.025000          3.000000   \n",
       "max    3.052003e+06   421.000000   639.949998         60.000000   \n",
       "\n",
       "       Approved_Conversion  \n",
       "count          1143.000000  \n",
       "mean              0.944007  \n",
       "std               1.737708  \n",
       "min               0.000000  \n",
       "25%               0.000000  \n",
       "50%               1.000000  \n",
       "75%               1.000000  \n",
       "max              21.000000  "
      ]
     },
     "execution_count": 3,
     "metadata": {},
     "output_type": "execute_result"
    }
   ],
   "source": [
    "df.describe()"
   ]
  },
  {
   "cell_type": "markdown",
   "metadata": {},
   "source": [
    "# Check if there is missing values "
   ]
  },
  {
   "cell_type": "code",
   "execution_count": 4,
   "metadata": {},
   "outputs": [
    {
     "data": {
      "text/plain": [
       "ad_id                  False\n",
       "xyz_campaign_id        False\n",
       "fb_campaign_id         False\n",
       "age                    False\n",
       "gender                 False\n",
       "interest               False\n",
       "Impressions            False\n",
       "Clicks                 False\n",
       "Spent                  False\n",
       "Total_Conversion       False\n",
       "Approved_Conversion    False\n",
       "dtype: bool"
      ]
     },
     "execution_count": 4,
     "metadata": {},
     "output_type": "execute_result"
    }
   ],
   "source": [
    "df.isna().any()"
   ]
  },
  {
   "cell_type": "markdown",
   "metadata": {},
   "source": [
    "# Check Categorical Features "
   ]
  },
  {
   "cell_type": "code",
   "execution_count": 5,
   "metadata": {},
   "outputs": [
    {
     "name": "stdout",
     "output_type": "stream",
     "text": [
      "Total categorical features: 2 and they are ['age', 'gender']\n",
      "column name age has 4\n",
      "column name gender has 2\n"
     ]
    }
   ],
   "source": [
    "column_value = []\n",
    "total_values_for_category = []\n",
    "for i in df:\n",
    "    if df[i].dtypes == np.object:\n",
    "        column_value.append(i)\n",
    "        total_values_for_category.append(len(df[i].value_counts()))\n",
    "print(f\"Total categorical features: {len(column_value)} and they are {column_value}\")\n",
    "for i in range(len(column_value)):\n",
    "    print(f\"column name {column_value[i]} has {total_values_for_category[i]}\")\n",
    "    "
   ]
  },
  {
   "cell_type": "code",
   "execution_count": 6,
   "metadata": {},
   "outputs": [
    {
     "name": "stdout",
     "output_type": "stream",
     "text": [
      "['M' 'F']\n",
      "['30-34' '35-39' '40-44' '45-49']\n",
      "[ 916  936 1178]\n"
     ]
    }
   ],
   "source": [
    "# Find unique values for Categorical Features\n",
    "print(df['gender'].unique())\n",
    "print(df['age'].unique())\n",
    "print(df['xyz_campaign_id'].unique())"
   ]
  },
  {
   "cell_type": "markdown",
   "metadata": {},
   "source": [
    "### Declare new values for categorical variable\n",
    "1. Gender M = 1; F = 2\n",
    "2. Age 30-34 = 1; 35-39 = 2; 40-44 = 3; 45-49 = 4\n",
    "3. Xyz_campaign_id: remain the same number"
   ]
  },
  {
   "cell_type": "code",
   "execution_count": 7,
   "metadata": {},
   "outputs": [
    {
     "data": {
      "text/html": [
       "<div>\n",
       "<style scoped>\n",
       "    .dataframe tbody tr th:only-of-type {\n",
       "        vertical-align: middle;\n",
       "    }\n",
       "\n",
       "    .dataframe tbody tr th {\n",
       "        vertical-align: top;\n",
       "    }\n",
       "\n",
       "    .dataframe thead th {\n",
       "        text-align: right;\n",
       "    }\n",
       "</style>\n",
       "<table border=\"1\" class=\"dataframe\">\n",
       "  <thead>\n",
       "    <tr style=\"text-align: right;\">\n",
       "      <th></th>\n",
       "      <th>ad_id</th>\n",
       "      <th>xyz_campaign_id</th>\n",
       "      <th>fb_campaign_id</th>\n",
       "      <th>age</th>\n",
       "      <th>gender</th>\n",
       "      <th>interest</th>\n",
       "      <th>Impressions</th>\n",
       "      <th>Clicks</th>\n",
       "      <th>Spent</th>\n",
       "      <th>Total_Conversion</th>\n",
       "      <th>Approved_Conversion</th>\n",
       "    </tr>\n",
       "  </thead>\n",
       "  <tbody>\n",
       "    <tr>\n",
       "      <th>0</th>\n",
       "      <td>708746</td>\n",
       "      <td>916</td>\n",
       "      <td>103916</td>\n",
       "      <td>1</td>\n",
       "      <td>1</td>\n",
       "      <td>15</td>\n",
       "      <td>7350</td>\n",
       "      <td>1</td>\n",
       "      <td>1.43</td>\n",
       "      <td>2</td>\n",
       "      <td>1</td>\n",
       "    </tr>\n",
       "    <tr>\n",
       "      <th>1</th>\n",
       "      <td>708749</td>\n",
       "      <td>916</td>\n",
       "      <td>103917</td>\n",
       "      <td>1</td>\n",
       "      <td>1</td>\n",
       "      <td>16</td>\n",
       "      <td>17861</td>\n",
       "      <td>2</td>\n",
       "      <td>1.82</td>\n",
       "      <td>2</td>\n",
       "      <td>0</td>\n",
       "    </tr>\n",
       "    <tr>\n",
       "      <th>2</th>\n",
       "      <td>708771</td>\n",
       "      <td>916</td>\n",
       "      <td>103920</td>\n",
       "      <td>1</td>\n",
       "      <td>1</td>\n",
       "      <td>20</td>\n",
       "      <td>693</td>\n",
       "      <td>0</td>\n",
       "      <td>0.00</td>\n",
       "      <td>1</td>\n",
       "      <td>0</td>\n",
       "    </tr>\n",
       "    <tr>\n",
       "      <th>3</th>\n",
       "      <td>708815</td>\n",
       "      <td>916</td>\n",
       "      <td>103928</td>\n",
       "      <td>1</td>\n",
       "      <td>1</td>\n",
       "      <td>28</td>\n",
       "      <td>4259</td>\n",
       "      <td>1</td>\n",
       "      <td>1.25</td>\n",
       "      <td>1</td>\n",
       "      <td>0</td>\n",
       "    </tr>\n",
       "    <tr>\n",
       "      <th>4</th>\n",
       "      <td>708818</td>\n",
       "      <td>916</td>\n",
       "      <td>103928</td>\n",
       "      <td>1</td>\n",
       "      <td>1</td>\n",
       "      <td>28</td>\n",
       "      <td>4133</td>\n",
       "      <td>1</td>\n",
       "      <td>1.29</td>\n",
       "      <td>1</td>\n",
       "      <td>1</td>\n",
       "    </tr>\n",
       "  </tbody>\n",
       "</table>\n",
       "</div>"
      ],
      "text/plain": [
       "    ad_id  xyz_campaign_id  fb_campaign_id  age  gender  interest  \\\n",
       "0  708746              916          103916    1       1        15   \n",
       "1  708749              916          103917    1       1        16   \n",
       "2  708771              916          103920    1       1        20   \n",
       "3  708815              916          103928    1       1        28   \n",
       "4  708818              916          103928    1       1        28   \n",
       "\n",
       "   Impressions  Clicks  Spent  Total_Conversion  Approved_Conversion  \n",
       "0         7350       1   1.43                 2                    1  \n",
       "1        17861       2   1.82                 2                    0  \n",
       "2          693       0   0.00                 1                    0  \n",
       "3         4259       1   1.25                 1                    0  \n",
       "4         4133       1   1.29                 1                    1  "
      ]
     },
     "execution_count": 7,
     "metadata": {},
     "output_type": "execute_result"
    }
   ],
   "source": [
    "df['age'] = df['age'].replace(['30-34', '35-39','40-44','45-49'], [1,2,3,4])\n",
    "df['gender']=df['gender'].replace(['M',\"F\"],[1,2])\n",
    "df.head()"
   ]
  },
  {
   "cell_type": "markdown",
   "metadata": {},
   "source": [
    "# Handling Outlier\n",
    "1. since first 3 columns are id, we start checking outliers from column 3\n",
    "2. check zscore: >3 or <-3 is considered to be an outlier"
   ]
  },
  {
   "cell_type": "code",
   "execution_count": 8,
   "metadata": {},
   "outputs": [
    {
     "data": {
      "image/png": "[encoded data removed]",
      "text/plain": [
       "<Figure size 3600x1440 with 1 Axes>"
      ]
     },
     "metadata": {
      "needs_background": "light"
     },
     "output_type": "display_data"
    }
   ],
   "source": [
    "plt.figure(figsize=(50,20))\n",
    "pd.DataFrame.boxplot(df.iloc[:,3:])\n",
    "plt.show()"
   ]
  },
  {
   "cell_type": "code",
   "execution_count": 9,
   "metadata": {},
   "outputs": [
    {
     "name": "stdout",
     "output_type": "stream",
     "text": [
      "age column has 0 outliers\n",
      "[]\n",
      "gender column has 0 outliers\n",
      "[]\n",
      "interest column has 5 outliers\n",
      "[1068 1090 1114 1128 1142]\n",
      "Impressions column has 23 outliers\n",
      "[ 518  524  525  528  574  628  662  706  760  765  768  807  860  865\n",
      "  867  884  909  912  995 1026 1123 1127 1138]\n",
      "Clicks column has 33 outliers\n",
      "[ 525  574  662  706  760  765  807  860  865  867  884  903  909  929\n",
      "  937  949  969  970  995 1002 1003 1009 1025 1026 1027 1032 1035 1041\n",
      " 1118 1123 1127 1134 1138]\n",
      "Spent column has 32 outliers\n",
      "[ 525  528  574  662  706  760  765  768  807  812  860  865  867  884\n",
      "  903  909  929  949  969  970  995 1002 1003 1025 1026 1027 1032 1041\n",
      " 1118 1123 1134 1138]\n",
      "Total_Conversion column has 26 outliers\n",
      "[ 518  524  525  528  531  544  561  568  574  577  579  613  628  706\n",
      "  806  807  827  859  860  867 1094 1097 1101 1115 1116 1127]\n",
      "Approved_Conversion column has 22 outliers\n",
      "[ 518  524  525  528  531  544  561  574  577  579  613  662  765  806\n",
      "  807  860  867 1032 1101 1115 1116 1127]\n"
     ]
    }
   ],
   "source": [
    "for i in df.iloc[:,3:]:\n",
    "#     print(i)\n",
    "    val = np.where(np.abs(stats.zscore(df[i])>3))\n",
    "    print(f\"{i} column has {len(val[0])} outliers\")\n",
    "    print(val[0])\n",
    "    # return outliers row number under each column name"
   ]
  },
  {
   "cell_type": "code",
   "execution_count": 10,
   "metadata": {},
   "outputs": [],
   "source": [
    "def bound(column):#bound-max and min\n",
    "    q1=df[column].quantile(0.25)\n",
    "    q3=df[column].quantile(0.75)\n",
    "    IQR=q3-q1\n",
    "    lower_range = q1- (1.5 * IQR)\n",
    "    upper_range = q3 + (1.5 * IQR)\n",
    "    return lower_range,upper_range\n",
    "\n",
    "\n",
    "def outlier_detection(target):#inject list dari boundnya\n",
    "    sumlower=[]\n",
    "    sumupper=[]\n",
    "    lower=[0]*len(target)\n",
    "    upper=[0]*len(target)\n",
    "    for index , i in enumerate(target):\n",
    "        lower[index],upper[index]=bound(i)\n",
    "        sumlower.append(lower[index])\n",
    "        sumupper.append(upper[index])\n",
    "    return sumlower,sumupper\n",
    "\n",
    "\n",
    "def outlier_remover(target):\n",
    "    sumlower,sumupper=outlier_detection(target)\n",
    "    ndf=df.copy()\n",
    "    for index, i in enumerate(target):\n",
    "        ndf[i]=ndf[i][(ndf[i]>sumlower[index])&(ndf[i]<sumupper[index])]   \n",
    "    return ndf"
   ]
  },
  {
   "cell_type": "code",
   "execution_count": 11,
   "metadata": {},
   "outputs": [
    {
     "data": {
      "text/html": [
       "<div>\n",
       "<style scoped>\n",
       "    .dataframe tbody tr th:only-of-type {\n",
       "        vertical-align: middle;\n",
       "    }\n",
       "\n",
       "    .dataframe tbody tr th {\n",
       "        vertical-align: top;\n",
       "    }\n",
       "\n",
       "    .dataframe thead th {\n",
       "        text-align: right;\n",
       "    }\n",
       "</style>\n",
       "<table border=\"1\" class=\"dataframe\">\n",
       "  <thead>\n",
       "    <tr style=\"text-align: right;\">\n",
       "      <th></th>\n",
       "      <th>ad_id</th>\n",
       "      <th>xyz_campaign_id</th>\n",
       "      <th>fb_campaign_id</th>\n",
       "      <th>age</th>\n",
       "      <th>gender</th>\n",
       "      <th>interest</th>\n",
       "      <th>Impressions</th>\n",
       "      <th>Clicks</th>\n",
       "      <th>Spent</th>\n",
       "      <th>Total_Conversion</th>\n",
       "      <th>Approved_Conversion</th>\n",
       "    </tr>\n",
       "  </thead>\n",
       "  <tbody>\n",
       "    <tr>\n",
       "      <th>0</th>\n",
       "      <td>708746</td>\n",
       "      <td>916</td>\n",
       "      <td>103916</td>\n",
       "      <td>1</td>\n",
       "      <td>1</td>\n",
       "      <td>15.0</td>\n",
       "      <td>7350.0</td>\n",
       "      <td>1.0</td>\n",
       "      <td>1.43</td>\n",
       "      <td>2.0</td>\n",
       "      <td>1.0</td>\n",
       "    </tr>\n",
       "    <tr>\n",
       "      <th>1</th>\n",
       "      <td>708749</td>\n",
       "      <td>916</td>\n",
       "      <td>103917</td>\n",
       "      <td>1</td>\n",
       "      <td>1</td>\n",
       "      <td>16.0</td>\n",
       "      <td>17861.0</td>\n",
       "      <td>2.0</td>\n",
       "      <td>1.82</td>\n",
       "      <td>2.0</td>\n",
       "      <td>0.0</td>\n",
       "    </tr>\n",
       "    <tr>\n",
       "      <th>2</th>\n",
       "      <td>708771</td>\n",
       "      <td>916</td>\n",
       "      <td>103920</td>\n",
       "      <td>1</td>\n",
       "      <td>1</td>\n",
       "      <td>20.0</td>\n",
       "      <td>693.0</td>\n",
       "      <td>0.0</td>\n",
       "      <td>0.00</td>\n",
       "      <td>1.0</td>\n",
       "      <td>0.0</td>\n",
       "    </tr>\n",
       "    <tr>\n",
       "      <th>3</th>\n",
       "      <td>708815</td>\n",
       "      <td>916</td>\n",
       "      <td>103928</td>\n",
       "      <td>1</td>\n",
       "      <td>1</td>\n",
       "      <td>28.0</td>\n",
       "      <td>4259.0</td>\n",
       "      <td>1.0</td>\n",
       "      <td>1.25</td>\n",
       "      <td>1.0</td>\n",
       "      <td>0.0</td>\n",
       "    </tr>\n",
       "    <tr>\n",
       "      <th>4</th>\n",
       "      <td>708818</td>\n",
       "      <td>916</td>\n",
       "      <td>103928</td>\n",
       "      <td>1</td>\n",
       "      <td>1</td>\n",
       "      <td>28.0</td>\n",
       "      <td>4133.0</td>\n",
       "      <td>1.0</td>\n",
       "      <td>1.29</td>\n",
       "      <td>1.0</td>\n",
       "      <td>1.0</td>\n",
       "    </tr>\n",
       "  </tbody>\n",
       "</table>\n",
       "</div>"
      ],
      "text/plain": [
       "    ad_id  xyz_campaign_id  fb_campaign_id  age  gender  interest  \\\n",
       "0  708746              916          103916    1       1      15.0   \n",
       "1  708749              916          103917    1       1      16.0   \n",
       "2  708771              916          103920    1       1      20.0   \n",
       "3  708815              916          103928    1       1      28.0   \n",
       "4  708818              916          103928    1       1      28.0   \n",
       "\n",
       "   Impressions  Clicks  Spent  Total_Conversion  Approved_Conversion  \n",
       "0       7350.0     1.0   1.43               2.0                  1.0  \n",
       "1      17861.0     2.0   1.82               2.0                  0.0  \n",
       "2        693.0     0.0   0.00               1.0                  0.0  \n",
       "3       4259.0     1.0   1.25               1.0                  0.0  \n",
       "4       4133.0     1.0   1.29               1.0                  1.0  "
      ]
     },
     "execution_count": 11,
     "metadata": {},
     "output_type": "execute_result"
    }
   ],
   "source": [
    "target=['interest','Impressions','Clicks','Total_Conversion','Approved_Conversion']\n",
    "df = outlier_remover(target)\n",
    "df.head()"
   ]
  },
  {
   "cell_type": "code",
   "execution_count": 12,
   "metadata": {},
   "outputs": [
    {
     "name": "stdout",
     "output_type": "stream",
     "text": [
      "age column has 0 outliers\n",
      "[]\n",
      "gender column has 0 outliers\n",
      "[]\n",
      "interest column has 0 outliers\n",
      "[]\n",
      "Impressions column has 0 outliers\n",
      "[]\n",
      "Clicks column has 0 outliers\n",
      "[]\n",
      "Spent column has 32 outliers\n",
      "[ 525  528  574  662  706  760  765  768  807  812  860  865  867  884\n",
      "  903  909  929  949  969  970  995 1002 1003 1025 1026 1027 1032 1041\n",
      " 1118 1123 1134 1138]\n",
      "Total_Conversion column has 0 outliers\n",
      "[]\n",
      "Approved_Conversion column has 0 outliers\n",
      "[]\n"
     ]
    }
   ],
   "source": [
    "for i in df.iloc[:,3:]:\n",
    "#     print(i)\n",
    "    val = np.where(np.abs(stats.zscore(df[i])>3))\n",
    "    print(f\"{i} column has {len(val[0])} outliers\")\n",
    "    print(val[0])"
   ]
  },
  {
   "cell_type": "markdown",
   "metadata": {},
   "source": [
    "### After removing outliers, some columns will have missing values, we need to drop the columns "
   ]
  },
  {
   "cell_type": "code",
   "execution_count": 13,
   "metadata": {},
   "outputs": [
    {
     "data": {
      "text/plain": [
       "ad_id                    0\n",
       "xyz_campaign_id          0\n",
       "fb_campaign_id           0\n",
       "age                      0\n",
       "gender                   0\n",
       "interest               219\n",
       "Impressions            123\n",
       "Clicks                 127\n",
       "Spent                    0\n",
       "Total_Conversion       127\n",
       "Approved_Conversion     95\n",
       "dtype: int64"
      ]
     },
     "execution_count": 13,
     "metadata": {},
     "output_type": "execute_result"
    }
   ],
   "source": [
    "# number of missing values for each column\n",
    "df.isna().sum()"
   ]
  },
  {
   "cell_type": "code",
   "execution_count": 14,
   "metadata": {},
   "outputs": [
    {
     "data": {
      "text/plain": [
       "ad_id                  0\n",
       "xyz_campaign_id        0\n",
       "fb_campaign_id         0\n",
       "age                    0\n",
       "gender                 0\n",
       "interest               0\n",
       "Impressions            0\n",
       "Clicks                 0\n",
       "Spent                  0\n",
       "Total_Conversion       0\n",
       "Approved_Conversion    0\n",
       "dtype: int64"
      ]
     },
     "execution_count": 14,
     "metadata": {},
     "output_type": "execute_result"
    }
   ],
   "source": [
    "# drop missing values\n",
    "df = df.dropna()\n",
    "df.isna().sum()"
   ]
  },
  {
   "cell_type": "markdown",
   "metadata": {},
   "source": [
    "# Check the correlation between variables"
   ]
  },
  {
   "cell_type": "code",
   "execution_count": 15,
   "metadata": {},
   "outputs": [
    {
     "data": {
      "text/html": [
       "<div>\n",
       "<style scoped>\n",
       "    .dataframe tbody tr th:only-of-type {\n",
       "        vertical-align: middle;\n",
       "    }\n",
       "\n",
       "    .dataframe tbody tr th {\n",
       "        vertical-align: top;\n",
       "    }\n",
       "\n",
       "    .dataframe thead th {\n",
       "        text-align: right;\n",
       "    }\n",
       "</style>\n",
       "<table border=\"1\" class=\"dataframe\">\n",
       "  <thead>\n",
       "    <tr style=\"text-align: right;\">\n",
       "      <th></th>\n",
       "      <th>ad_id</th>\n",
       "      <th>xyz_campaign_id</th>\n",
       "      <th>fb_campaign_id</th>\n",
       "      <th>age</th>\n",
       "      <th>gender</th>\n",
       "      <th>interest</th>\n",
       "      <th>Impressions</th>\n",
       "      <th>Clicks</th>\n",
       "      <th>Spent</th>\n",
       "      <th>Total_Conversion</th>\n",
       "      <th>Approved_Conversion</th>\n",
       "    </tr>\n",
       "  </thead>\n",
       "  <tbody>\n",
       "    <tr>\n",
       "      <th>ad_id</th>\n",
       "      <td>1.000000</td>\n",
       "      <td>0.942176</td>\n",
       "      <td>0.989092</td>\n",
       "      <td>0.061720</td>\n",
       "      <td>-0.118701</td>\n",
       "      <td>0.085602</td>\n",
       "      <td>0.601483</td>\n",
       "      <td>0.535920</td>\n",
       "      <td>0.547113</td>\n",
       "      <td>0.382822</td>\n",
       "      <td>0.146368</td>\n",
       "    </tr>\n",
       "    <tr>\n",
       "      <th>xyz_campaign_id</th>\n",
       "      <td>0.942176</td>\n",
       "      <td>1.000000</td>\n",
       "      <td>0.963549</td>\n",
       "      <td>0.075930</td>\n",
       "      <td>-0.142454</td>\n",
       "      <td>0.096268</td>\n",
       "      <td>0.652138</td>\n",
       "      <td>0.586111</td>\n",
       "      <td>0.596747</td>\n",
       "      <td>0.403345</td>\n",
       "      <td>0.149198</td>\n",
       "    </tr>\n",
       "    <tr>\n",
       "      <th>fb_campaign_id</th>\n",
       "      <td>0.989092</td>\n",
       "      <td>0.963549</td>\n",
       "      <td>1.000000</td>\n",
       "      <td>0.069259</td>\n",
       "      <td>-0.116866</td>\n",
       "      <td>0.088857</td>\n",
       "      <td>0.621235</td>\n",
       "      <td>0.556666</td>\n",
       "      <td>0.567365</td>\n",
       "      <td>0.388621</td>\n",
       "      <td>0.140045</td>\n",
       "    </tr>\n",
       "    <tr>\n",
       "      <th>age</th>\n",
       "      <td>0.061720</td>\n",
       "      <td>0.075930</td>\n",
       "      <td>0.069259</td>\n",
       "      <td>1.000000</td>\n",
       "      <td>0.033221</td>\n",
       "      <td>-0.042514</td>\n",
       "      <td>0.156826</td>\n",
       "      <td>0.278457</td>\n",
       "      <td>0.263740</td>\n",
       "      <td>-0.015494</td>\n",
       "      <td>-0.052434</td>\n",
       "    </tr>\n",
       "    <tr>\n",
       "      <th>gender</th>\n",
       "      <td>-0.118701</td>\n",
       "      <td>-0.142454</td>\n",
       "      <td>-0.116866</td>\n",
       "      <td>0.033221</td>\n",
       "      <td>1.000000</td>\n",
       "      <td>-0.017931</td>\n",
       "      <td>-0.091463</td>\n",
       "      <td>0.031312</td>\n",
       "      <td>-0.014504</td>\n",
       "      <td>-0.083825</td>\n",
       "      <td>-0.080276</td>\n",
       "    </tr>\n",
       "    <tr>\n",
       "      <th>interest</th>\n",
       "      <td>0.085602</td>\n",
       "      <td>0.096268</td>\n",
       "      <td>0.088857</td>\n",
       "      <td>-0.042514</td>\n",
       "      <td>-0.017931</td>\n",
       "      <td>1.000000</td>\n",
       "      <td>0.013619</td>\n",
       "      <td>0.022899</td>\n",
       "      <td>0.021766</td>\n",
       "      <td>-0.005272</td>\n",
       "      <td>-0.028897</td>\n",
       "    </tr>\n",
       "    <tr>\n",
       "      <th>Impressions</th>\n",
       "      <td>0.601483</td>\n",
       "      <td>0.652138</td>\n",
       "      <td>0.621235</td>\n",
       "      <td>0.156826</td>\n",
       "      <td>-0.091463</td>\n",
       "      <td>0.013619</td>\n",
       "      <td>1.000000</td>\n",
       "      <td>0.940952</td>\n",
       "      <td>0.962588</td>\n",
       "      <td>0.607613</td>\n",
       "      <td>0.233909</td>\n",
       "    </tr>\n",
       "    <tr>\n",
       "      <th>Clicks</th>\n",
       "      <td>0.535920</td>\n",
       "      <td>0.586111</td>\n",
       "      <td>0.556666</td>\n",
       "      <td>0.278457</td>\n",
       "      <td>0.031312</td>\n",
       "      <td>0.022899</td>\n",
       "      <td>0.940952</td>\n",
       "      <td>1.000000</td>\n",
       "      <td>0.991914</td>\n",
       "      <td>0.529010</td>\n",
       "      <td>0.178625</td>\n",
       "    </tr>\n",
       "    <tr>\n",
       "      <th>Spent</th>\n",
       "      <td>0.547113</td>\n",
       "      <td>0.596747</td>\n",
       "      <td>0.567365</td>\n",
       "      <td>0.263740</td>\n",
       "      <td>-0.014504</td>\n",
       "      <td>0.021766</td>\n",
       "      <td>0.962588</td>\n",
       "      <td>0.991914</td>\n",
       "      <td>1.000000</td>\n",
       "      <td>0.553461</td>\n",
       "      <td>0.191131</td>\n",
       "    </tr>\n",
       "    <tr>\n",
       "      <th>Total_Conversion</th>\n",
       "      <td>0.382822</td>\n",
       "      <td>0.403345</td>\n",
       "      <td>0.388621</td>\n",
       "      <td>-0.015494</td>\n",
       "      <td>-0.083825</td>\n",
       "      <td>-0.005272</td>\n",
       "      <td>0.607613</td>\n",
       "      <td>0.529010</td>\n",
       "      <td>0.553461</td>\n",
       "      <td>1.000000</td>\n",
       "      <td>0.397091</td>\n",
       "    </tr>\n",
       "    <tr>\n",
       "      <th>Approved_Conversion</th>\n",
       "      <td>0.146368</td>\n",
       "      <td>0.149198</td>\n",
       "      <td>0.140045</td>\n",
       "      <td>-0.052434</td>\n",
       "      <td>-0.080276</td>\n",
       "      <td>-0.028897</td>\n",
       "      <td>0.233909</td>\n",
       "      <td>0.178625</td>\n",
       "      <td>0.191131</td>\n",
       "      <td>0.397091</td>\n",
       "      <td>1.000000</td>\n",
       "    </tr>\n",
       "  </tbody>\n",
       "</table>\n",
       "</div>"
      ],
      "text/plain": [
       "                        ad_id  xyz_campaign_id  fb_campaign_id       age  \\\n",
       "ad_id                1.000000         0.942176        0.989092  0.061720   \n",
       "xyz_campaign_id      0.942176         1.000000        0.963549  0.075930   \n",
       "fb_campaign_id       0.989092         0.963549        1.000000  0.069259   \n",
       "age                  0.061720         0.075930        0.069259  1.000000   \n",
       "gender              -0.118701        -0.142454       -0.116866  0.033221   \n",
       "interest             0.085602         0.096268        0.088857 -0.042514   \n",
       "Impressions          0.601483         0.652138        0.621235  0.156826   \n",
       "Clicks               0.535920         0.586111        0.556666  0.278457   \n",
       "Spent                0.547113         0.596747        0.567365  0.263740   \n",
       "Total_Conversion     0.382822         0.403345        0.388621 -0.015494   \n",
       "Approved_Conversion  0.146368         0.149198        0.140045 -0.052434   \n",
       "\n",
       "                       gender  interest  Impressions    Clicks     Spent  \\\n",
       "ad_id               -0.118701  0.085602     0.601483  0.535920  0.547113   \n",
       "xyz_campaign_id     -0.142454  0.096268     0.652138  0.586111  0.596747   \n",
       "fb_campaign_id      -0.116866  0.088857     0.621235  0.556666  0.567365   \n",
       "age                  0.033221 -0.042514     0.156826  0.278457  0.263740   \n",
       "gender               1.000000 -0.017931    -0.091463  0.031312 -0.014504   \n",
       "interest            -0.017931  1.000000     0.013619  0.022899  0.021766   \n",
       "Impressions         -0.091463  0.013619     1.000000  0.940952  0.962588   \n",
       "Clicks               0.031312  0.022899     0.940952  1.000000  0.991914   \n",
       "Spent               -0.014504  0.021766     0.962588  0.991914  1.000000   \n",
       "Total_Conversion    -0.083825 -0.005272     0.607613  0.529010  0.553461   \n",
       "Approved_Conversion -0.080276 -0.028897     0.233909  0.178625  0.191131   \n",
       "\n",
       "                     Total_Conversion  Approved_Conversion  \n",
       "ad_id                        0.382822             0.146368  \n",
       "xyz_campaign_id              0.403345             0.149198  \n",
       "fb_campaign_id               0.388621             0.140045  \n",
       "age                         -0.015494            -0.052434  \n",
       "gender                      -0.083825            -0.080276  \n",
       "interest                    -0.005272            -0.028897  \n",
       "Impressions                  0.607613             0.233909  \n",
       "Clicks                       0.529010             0.178625  \n",
       "Spent                        0.553461             0.191131  \n",
       "Total_Conversion             1.000000             0.397091  \n",
       "Approved_Conversion          0.397091             1.000000  "
      ]
     },
     "execution_count": 15,
     "metadata": {},
     "output_type": "execute_result"
    }
   ],
   "source": [
    "df.corr()"
   ]
  },
  {
   "cell_type": "code",
   "execution_count": 16,
   "metadata": {
    "scrolled": false
   },
   "outputs": [
    {
     "data": {
      "text/plain": [
       "<AxesSubplot:>"
      ]
     },
     "execution_count": 16,
     "metadata": {},
     "output_type": "execute_result"
    },
    {
     "data": {
      "image/png": "[encoded data removed]",
      "text/plain": [
       "<Figure size 432x288 with 2 Axes>"
      ]
     },
     "metadata": {
      "needs_background": "light"
     },
     "output_type": "display_data"
    }
   ],
   "source": [
    "sns.heatmap(df.corr())"
   ]
  },
  {
   "cell_type": "markdown",
   "metadata": {},
   "source": [
    "### Define Independent and Dependent variables:\n",
    "- Independent: gender, age, spent\n",
    "- Dependent: impression, click, total_conversion, approved_conversion"
   ]
  },
  {
   "cell_type": "code",
   "execution_count": 17,
   "metadata": {},
   "outputs": [
    {
     "name": "stdout",
     "output_type": "stream",
     "text": [
      "the more you spent on the ads, the more clicks it will generate\n"
     ]
    },
    {
     "data": {
      "image/png": "[encoded data removed]",
      "text/plain": [
       "<Figure size 432x288 with 1 Axes>"
      ]
     },
     "metadata": {
      "needs_background": "light"
     },
     "output_type": "display_data"
    }
   ],
   "source": [
    "sns.lineplot(x=\"Spent\", y = \"Clicks\",data = df)\n",
    "print(\"the more you spent on the ads, the more clicks it will generate\")"
   ]
  },
  {
   "cell_type": "markdown",
   "metadata": {},
   "source": [
    "### Calculate Click through rate = Clicks/Impressions "
   ]
  },
  {
   "cell_type": "code",
   "execution_count": 22,
   "metadata": {},
   "outputs": [
    {
     "name": "stdout",
     "output_type": "stream",
     "text": [
      "[0.022, 0.024, 0.017]\n"
     ]
    },
    {
     "data": {
      "image/png": "[encoded data removed]",
      "text/plain": [
       "<Figure size 432x288 with 1 Axes>"
      ]
     },
     "metadata": {
      "needs_background": "light"
     },
     "output_type": "display_data"
    }
   ],
   "source": [
    "ads1 = df[df['xyz_campaign_id']==916]\n",
    "ads2 = df[df['xyz_campaign_id']==936]\n",
    "ads3 = df[df['xyz_campaign_id']==1178]\n",
    "ctr_1 = round(((ads1['Clicks'].sum()/ads1['Impressions'].sum())*100),3)\n",
    "ctr_2 = round(((ads2['Clicks'].sum()/ads2['Impressions'].sum())*100),3)\n",
    "ctr_3 = round(((ads3['Clicks'].sum()/ads3['Impressions'].sum())*100),3)\n",
    "ctr_total = [ctr_1, ctr_2, ctr_3]\n",
    "x = ['916', '936', '1178']\n",
    "print(ctr_total)\n",
    "plt.xlabel('Campaign')\n",
    "plt.ylabel(\"Click Through Rate\")\n",
    "plt.title(\"3 campaigns CTR\")\n",
    "plt.barh(x,ctr_total)\n",
    "# display horizon bar chart with value label\n",
    "for idx, val in enumerate(ctr_total):\n",
    "    plt.text(val,idx,str(val)+\"%\")"
   ]
  },
  {
   "cell_type": "markdown",
   "metadata": {},
   "source": [
    "#### Conclusion of CTR: \n",
    "Campaign 916 and 936 have higher CTR, indicating they either have a more effective message or better targeting than campaign 1178."
   ]
  },
  {
   "cell_type": "markdown",
   "metadata": {},
   "source": [
    "### Calculate Coversion rate = Approved_conversion / Clicks \n",
    "- Using approved_conversion: people who bought the product after seeing the ad."
   ]
  },
  {
   "cell_type": "code",
   "execution_count": 23,
   "metadata": {},
   "outputs": [
    {
     "name": "stdout",
     "output_type": "stream",
     "text": [
      "[23.762, 9.845, 2.177]\n"
     ]
    },
    {
     "data": {
      "image/png": "[encoded data removed]",
      "text/plain": [
       "<Figure size 432x288 with 1 Axes>"
      ]
     },
     "metadata": {
      "needs_background": "light"
     },
     "output_type": "display_data"
    }
   ],
   "source": [
    "con_1 = round(((ads1['Approved_Conversion'].sum()/ads1['Clicks'].sum())*100),3)\n",
    "con_2 = round(((ads2['Approved_Conversion'].sum()/ads2['Clicks'].sum())*100),3)\n",
    "con_3 = round(((ads3['Approved_Conversion'].sum()/ads3['Clicks'].sum())*100),3)\n",
    "con_total = [con_1, con_2, con_3]\n",
    "x = ['916', '936', '1178']\n",
    "print(con_total)\n",
    "plt.xlabel('Campaign')\n",
    "plt.ylabel(\"Conversion Rate\")\n",
    "plt.title(\"3 campaigns Conversion Rate\")\n",
    "plt.barh(x,con_total)\n",
    "# display horizon bar chart with value label\n",
    "for idx, val in enumerate(con_total):\n",
    "    plt.text(val,idx,str(val)+\"%\")"
   ]
  },
  {
   "cell_type": "markdown",
   "metadata": {},
   "source": [
    "#### Conclusion of Conversion Rate:\n",
    "Campagin 916 and 936 have much larger conversion rates than campagin 1178. "
   ]
  },
  {
   "cell_type": "markdown",
   "metadata": {},
   "source": [
    "### Calculate Conversion Spent = Spent / Approved_conversion"
   ]
  },
  {
   "cell_type": "code",
   "execution_count": 25,
   "metadata": {},
   "outputs": [
    {
     "name": "stdout",
     "output_type": "stream",
     "text": [
      "[5.557, 14.655, 73.155]\n"
     ]
    },
    {
     "data": {
      "image/png": "[encoded data removed]",
      "text/plain": [
       "<Figure size 432x288 with 1 Axes>"
      ]
     },
     "metadata": {
      "needs_background": "light"
     },
     "output_type": "display_data"
    }
   ],
   "source": [
    "cc_1 = round(((ads1['Spent'].sum()/ads1['Approved_Conversion'].sum())),3)\n",
    "cc_2 = round(((ads2['Spent'].sum()/ads2['Approved_Conversion'].sum())),3)\n",
    "cc_3 = round(((ads3['Spent'].sum()/ads3['Approved_Conversion'].sum())),3)\n",
    "cc_total = [cc_1, cc_2, cc_3]\n",
    "x = ['916', '936', '1178']\n",
    "print(cc_total)\n",
    "plt.xlabel('Campaign')\n",
    "plt.ylabel(\"Conversion Spent\")\n",
    "plt.title(\"3 campaigns Conversion Spent\")\n",
    "plt.barh(x,cc_total)\n",
    "# display horizon bar chart with value label\n",
    "for idx, val in enumerate(cc_total):\n",
    "    plt.text(val,idx,\"$\"+str(val))"
   ]
  },
  {
   "cell_type": "markdown",
   "metadata": {},
   "source": [
    "#### Conclusion for Conversion Spent: \n",
    "Campaign 1178 having more than 4 times the next highest campagin 936. This along with the CTR above helps build a story that Campaign 1178 messaging and targeting are off as they have both lower CTR (message not resonate as much with customers) and they have a higher Coversion Spent (targeted customers who do click the ad are not actually interested in purchasing the product). Another explanation could be the cost per click for Campagin 1178 higher than the other 2 campaigns which we will now examine. "
   ]
  },
  {
   "cell_type": "markdown",
   "metadata": {},
   "source": [
    "### Calculate the Cost per click = Spent / Clicks "
   ]
  },
  {
   "cell_type": "code",
   "execution_count": 26,
   "metadata": {},
   "outputs": [
    {
     "name": "stdout",
     "output_type": "stream",
     "text": [
      "[1.32, 1.443, 1.593]\n"
     ]
    },
    {
     "data": {
      "image/png": "[encoded data removed]",
      "text/plain": [
       "<Figure size 432x288 with 1 Axes>"
      ]
     },
     "metadata": {
      "needs_background": "light"
     },
     "output_type": "display_data"
    }
   ],
   "source": [
    "cpc_1 = round(((ads1['Spent'].sum()/ads1['Clicks'].sum())),3)\n",
    "cpc_2 = round(((ads2['Spent'].sum()/ads2['Clicks'].sum())),3)\n",
    "cpc_3 = round(((ads3['Spent'].sum()/ads3['Clicks'].sum())),3)\n",
    "cpc_total = [cpc_1, cpc_2, cpc_3]\n",
    "x = ['916', '936', '1178']\n",
    "print(cpc_total)\n",
    "plt.xlabel('Campaign')\n",
    "plt.ylabel(\"Conversion Spent\")\n",
    "plt.title(\"3 campaigns Conversion Spent\")\n",
    "plt.barh(x,cpc_total)\n",
    "# display horizon bar chart with value label\n",
    "for idx, val in enumerate(cpc_total):\n",
    "    plt.text(val,idx,\"$\"+str(val))"
   ]
  },
  {
   "cell_type": "markdown",
   "metadata": {},
   "source": [
    "#### Conclusion on CPC:\n",
    "CPC for campagin 1178 is the highest, but the difference does not make up for the much larger Conversion spent previous shown. "
   ]
  },
  {
   "cell_type": "code",
   "execution_count": null,
   "metadata": {},
   "outputs": [],
   "source": []
  }
 ],
 "metadata": {
  "kernelspec": {
   "display_name": "Python 3",
   "language": "python",
   "name": "python3"
  },
  "language_info": {
   "codemirror_mode": {
    "name": "ipython",
    "version": 3
   },
   "file_extension": ".py",
   "mimetype": "text/x-python",
   "name": "python",
   "nbconvert_exporter": "python",
   "pygments_lexer": "ipython3",
   "version": "3.8.5"
  }
 },
 "nbformat": 4,
 "nbformat_minor": 4
}
